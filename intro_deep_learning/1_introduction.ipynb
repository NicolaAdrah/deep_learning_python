{
  "cells": [
    {
      "cell_type": "markdown",
      "id": "5b6d61f9-3e86-46c6-8c66-37e569cc8b09",
      "metadata": {
        "id": "5b6d61f9-3e86-46c6-8c66-37e569cc8b09"
      },
      "source": [
        "# On \"[Learning Representatio by back-propagation errors](https://www.nature.com/articles/323533a0)\"\n",
        "\n",
        "We will build and train a simple feedforward neural network using PyTorch to solve a binary sequence classification problem. Specifically, we will classify a sequence of 6 binary values as **symmetric** or **non-symmetric**. The network will learn an internal representation of symmetry through back-propagation."
      ]
    },
    {
      "cell_type": "markdown",
      "id": "90be7b8a-0879-42b5-b74b-3d5257a4a79f",
      "metadata": {
        "id": "90be7b8a-0879-42b5-b74b-3d5257a4a79f"
      },
      "source": [
        "## Problem Setup: Binary Sequence Symmetry Classification\n",
        "\n",
        "### Task Description\n",
        "\n",
        "- **Input:** A sequence of 6 binary values, e.g., `[0, 0, 1, 1, 0, 0]`.\n",
        "- **Output:** A label of `1` if the sequence is symmetric and `0` otherwise.\n",
        "\n",
        "For example, the sequence `[1, 0, 1, 1, 0, 1]` has mirror symmetry, whereas `[1, 0, 0, 1, 0, 1]` does not have such a symmetry."
      ]
    },
    {
      "cell_type": "code",
      "execution_count": null,
      "id": "93430a8c-6a8d-41d2-8c11-688505de539a",
      "metadata": {
        "id": "93430a8c-6a8d-41d2-8c11-688505de539a"
      },
      "outputs": [],
      "source": [
        "import torch\n",
        "import torch.nn as nn\n",
        "import torch.optim as optim\n",
        "import numpy as np\n",
        "import matplotlib.pyplot as plt\n",
        "\n",
        "# For reproducibility\n",
        "torch.manual_seed(42)\n",
        "np.random.seed(42)"
      ]
    },
    {
      "cell_type": "markdown",
      "id": "933b6ce1-23ac-49a8-8de0-6e48fe25e71a",
      "metadata": {
        "id": "933b6ce1-23ac-49a8-8de0-6e48fe25e71a"
      },
      "source": [
        "## Dataset Generation\n",
        "\n",
        "We generate a dataset of binary sequences of length 6. To ensure a balanced dataset:\n",
        "\n",
        "- **Symmetric Sequences:** We generate these by randomly choosing the first half of the sequence and mirroring it.\n",
        "- **Non-Symmetric Sequences:** We generate random sequences and reject the ones that are symmetric.\n",
        "\n",
        "Each example is labeled `1` if it is symmetric and `0` otherwise."
      ]
    },
    {
      "cell_type": "code",
      "execution_count": null,
      "id": "f97eaaf9-8a7c-4435-941f-6746cc03e2b7",
      "metadata": {
        "colab": {
          "base_uri": "https://localhost:8080/"
        },
        "id": "f97eaaf9-8a7c-4435-941f-6746cc03e2b7",
        "outputId": "9924c376-a8ac-4d90-a17f-796fd2981c63"
      },
      "outputs": [
        {
          "output_type": "stream",
          "name": "stdout",
          "text": [
            "Dataset shape: torch.Size([1000, 6]) torch.Size([1000, 1])\n"
          ]
        }
      ],
      "source": [
        "def generate_symmetric_sequence(length=6):\n",
        "    # Generate the first half randomly\n",
        "    half = np.random.randint(0, 10, size=length // 2).tolist()\n",
        "    # Mirror the half to create a symmetric sequence\n",
        "    return half + half[::-1]\n",
        "\n",
        "\n",
        "def generate_non_symmetric_sequence(length=10):\n",
        "    # Keep generating until a non-symmetric sequence is found\n",
        "    while True:\n",
        "        seq = np.random.randint(0, 10, size=length).tolist()\n",
        "        if seq != seq[::-1]:\n",
        "            return seq\n",
        "\n",
        "def create_dataset(num_samples=1000, length=6):\n",
        "    X = []\n",
        "    y = []\n",
        "    for _ in range(num_samples // 2):\n",
        "        X.append(generate_symmetric_sequence(length))\n",
        "        y.append(1)\n",
        "    for _ in range(num_samples // 2):\n",
        "        X.append(generate_non_symmetric_sequence(length))\n",
        "        y.append(0)\n",
        "    return np.array(X, dtype=np.float32), np.array(y, dtype=np.float32).reshape(-1, 1)\n",
        "\n",
        "# Create the dataset\n",
        "X, y = create_dataset(num_samples=1000, length=6)\n",
        "\n",
        "# Convert to PyTorch tensors\n",
        "X_tensor = torch.tensor(X)\n",
        "y_tensor = torch.tensor(y)\n",
        "\n",
        "print('Dataset shape:', X_tensor.shape, y_tensor.shape)"
      ]
    },
    {
      "cell_type": "markdown",
      "id": "0f65939d-7cb1-4eb5-94c7-4bf3d3a3d91f",
      "metadata": {
        "id": "0f65939d-7cb1-4eb5-94c7-4bf3d3a3d91f"
      },
      "source": [
        "## Network Design\n",
        "\n",
        "We will build a simple feedforward neural network with one hidden layer. The architecture is as follows:\n",
        "\n",
        "- **Input Layer:** 6 neurons (one per binary digit).\n",
        "- **Hidden Layer:** 1 neurons with Sigmoid activation.\n",
        "- **Output Layer:** 1 neuron with Sigmoid activation to produce a probability for the binary classification.\n",
        "\n",
        "The network is implemented as a subclass of `nn.Module`."
      ]
    },
    {
      "cell_type": "code",
      "execution_count": null,
      "id": "5500d67a-9e3a-4f0d-a2d0-26b4d4f66a52",
      "metadata": {
        "colab": {
          "base_uri": "https://localhost:8080/"
        },
        "id": "5500d67a-9e3a-4f0d-a2d0-26b4d4f66a52",
        "outputId": "fda54c96-27be-43e9-fb67-57f54dc5007c"
      },
      "outputs": [
        {
          "output_type": "stream",
          "name": "stdout",
          "text": [
            "SymmetryNet(\n",
            "  (layer1): Linear(in_features=6, out_features=1, bias=True)\n",
            "  (Sigmoid): Sigmoid()\n",
            "  (layer2): Linear(in_features=1, out_features=1, bias=True)\n",
            "  (sigmoid): Sigmoid()\n",
            ")\n"
          ]
        }
      ],
      "source": [
        "class SymmetryNet(nn.Module):\n",
        "    def __init__(self, input_size=6, hidden_size=1):\n",
        "        super(SymmetryNet, self).__init__()\n",
        "        self.layer1 = nn.Linear(input_size, hidden_size)\n",
        "        self.Sigmoid = nn.Sigmoid()\n",
        "        self.layer2 = nn.Linear(hidden_size, 1)\n",
        "        self.sigmoid = nn.Sigmoid()\n",
        "\n",
        "    def forward(self, x):\n",
        "        out = self.layer1(x)\n",
        "        out = self.Sigmoid(out)\n",
        "        out = self.layer2(out)\n",
        "        out = self.sigmoid(out)\n",
        "        return out\n",
        "\n",
        "# Instantiate the model\n",
        "model = SymmetryNet()\n",
        "\n",
        "def init_weights(m):\n",
        "    if isinstance(m, nn.Linear):\n",
        "        nn.init.uniform_(m.weight, -0.3, 0.3)\n",
        "        if m.bias is not None:\n",
        "            nn.init.uniform_(m.bias, -0.3, 0.3)\n",
        "\n",
        "# Apply the custom weight initialization to the model\n",
        "model.apply(init_weights)\n",
        "\n",
        "print(model)"
      ]
    },
    {
      "cell_type": "markdown",
      "id": "df20c6c7-2b0e-43a0-866e-56c6c3b8ec2a",
      "metadata": {
        "id": "df20c6c7-2b0e-43a0-866e-56c6c3b8ec2a"
      },
      "source": [
        "## Training Setup and Backpropagation\n",
        "\n",
        "### Loss Function and Optimizer\n",
        "\n",
        "We use the **Mean Squared Error (MSE)** loss. The optimizer chosen is **Adam**, which adapts the learning rate during training.\n",
        "\n",
        "### Backpropagation\n",
        "\n",
        "Backpropagation is the process of computing gradients of the loss with respect to each model parameter and updating the parameters accordingly. In each training iteration:\n",
        "\n",
        "1. A **forward pass** computes the network's prediction.\n",
        "2. The **loss** is computed comparing the prediction to the true label.\n",
        "3. The **backward pass** computes the gradient of the loss with respect to the network's weights.\n",
        "4. The optimizer **updates** the weights using the gradients to minimize the loss.\n",
        "\n",
        "This iterative process allows the network to learn an internal representation of symmetry."
      ]
    },
    {
      "cell_type": "code",
      "execution_count": null,
      "id": "cfca4b3e-348a-4d32-bc27-d6a89759ce86",
      "metadata": {
        "colab": {
          "base_uri": "https://localhost:8080/"
        },
        "id": "cfca4b3e-348a-4d32-bc27-d6a89759ce86",
        "outputId": "6ecee9a0-ce18-4908-f682-4937b1b7d66e"
      },
      "outputs": [
        {
          "output_type": "stream",
          "name": "stdout",
          "text": [
            "Epoch [100/1000], Loss: 0.1691\n",
            "Epoch [200/1000], Loss: 0.1656\n",
            "Epoch [300/1000], Loss: 0.1635\n",
            "Epoch [400/1000], Loss: 0.1624\n",
            "Epoch [500/1000], Loss: 0.1617\n",
            "Epoch [600/1000], Loss: 0.1611\n",
            "Epoch [700/1000], Loss: 0.1607\n",
            "Epoch [800/1000], Loss: 0.1604\n",
            "Epoch [900/1000], Loss: 0.1602\n",
            "Epoch [1000/1000], Loss: 0.1600\n"
          ]
        }
      ],
      "source": [
        "# Define loss function and optimizer\n",
        "criterion = nn.MSELoss()\n",
        "optimizer = optim.Adam(model.parameters(), lr=0.1)\n",
        "\n",
        "# Training loop parameters\n",
        "num_epochs = 1000\n",
        "loss_values = []\n",
        "\n",
        "for epoch in range(num_epochs):\n",
        "    # Forward pass\n",
        "    outputs = model(X_tensor)\n",
        "    loss = criterion(outputs, y_tensor)\n",
        "\n",
        "    # Backward pass and optimization\n",
        "    optimizer.zero_grad()\n",
        "    loss.backward()\n",
        "    optimizer.step()\n",
        "\n",
        "    loss_values.append(loss.item())\n",
        "    if (epoch+1) % 100 == 0:\n",
        "        print(f\"Epoch [{epoch+1}/{num_epochs}], Loss: {loss.item():.4f}\")"
      ]
    },
    {
      "cell_type": "markdown",
      "id": "a7f7c1da-0e64-4249-95d8-21f7d2c9b7bb",
      "metadata": {
        "id": "a7f7c1da-0e64-4249-95d8-21f7d2c9b7bb"
      },
      "source": [
        "## Visualization: Training Loss\n",
        "\n",
        "We now plot the training loss over epochs to see how the network learns over time. A decreasing loss indicates that the network is improving its predictions."
      ]
    },
    {
      "cell_type": "code",
      "execution_count": null,
      "id": "882fbd12-a5b3-4af6-bd21-5f242e3cf516",
      "metadata": {
        "colab": {
          "base_uri": "https://localhost:8080/",
          "height": 487
        },
        "id": "882fbd12-a5b3-4af6-bd21-5f242e3cf516",
        "outputId": "a88d6530-da3e-491e-bfe3-1fa8142bb773"
      },
      "outputs": [
        {
          "output_type": "display_data",
          "data": {
            "text/plain": [
              "<Figure size 800x500 with 1 Axes>"
            ],
            "image/png": "[encoded data removed]"
          },
          "metadata": {}
        }
      ],
      "source": [
        "plt.figure(figsize=(8, 5))\n",
        "plt.plot(loss_values, label='Training Loss')\n",
        "plt.xlabel('Epoch')\n",
        "plt.ylabel('Loss')\n",
        "plt.title('Training Loss Curve')\n",
        "plt.legend()\n",
        "plt.show()"
      ]
    },
    {
      "cell_type": "markdown",
      "id": "3d8e2487-3d61-4182-83f8-3573f20249cb",
      "metadata": {
        "id": "3d8e2487-3d61-4182-83f8-3573f20249cb"
      },
      "source": [
        "## Evaluating the Model\n",
        "\n",
        "Let's take a few examples from our dataset and see what the network predicts before and after training. The output is a probability (close to 0 for non-symmetric and close to 1 for symmetric sequences)."
      ]
    },
    {
      "cell_type": "code",
      "execution_count": null,
      "id": "e15c8bb2-2772-4e0e-96bf-fdebd8bfb7e6",
      "metadata": {
        "colab": {
          "base_uri": "https://localhost:8080/"
        },
        "id": "e15c8bb2-2772-4e0e-96bf-fdebd8bfb7e6",
        "outputId": "9c554c6b-f616-4a33-a81f-0d8bb5b25081"
      },
      "outputs": [
        {
          "output_type": "stream",
          "name": "stdout",
          "text": [
            "Input sequences:\n",
            "[[6. 4. 6. 6. 4. 6.]\n",
            " [9. 4. 1. 8. 5. 2.]\n",
            " [3. 0. 7. 0. 4. 5.]\n",
            " [8. 7. 4. 4. 7. 8.]\n",
            " [2. 6. 2. 2. 9. 4.]]\n",
            "\n",
            "True labels:\n",
            "[[1.]\n",
            " [0.]\n",
            " [0.]\n",
            " [1.]\n",
            " [0.]]\n",
            "\n",
            "Predicted probabilities:\n",
            "[[0.68117094]\n",
            " [0.00319485]\n",
            " [0.6820884 ]\n",
            " [0.6813711 ]\n",
            " [0.6820884 ]]\n"
          ]
        }
      ],
      "source": [
        "# Choose a few random examples\n",
        "indices = np.random.choice(len(X_tensor), size=5, replace=False)\n",
        "sample_inputs = X_tensor[indices]\n",
        "sample_labels = y_tensor[indices]\n",
        "\n",
        "with torch.no_grad():\n",
        "    sample_outputs = model(sample_inputs)\n",
        "\n",
        "print('Input sequences:')\n",
        "print(sample_inputs.numpy())\n",
        "print('\\nTrue labels:')\n",
        "print(sample_labels.numpy())\n",
        "print('\\nPredicted probabilities:')\n",
        "print(sample_outputs.numpy())"
      ]
    },
    {
      "cell_type": "markdown",
      "id": "ac543289-2f40-4cf4-9f87-3c43c9b66bb7",
      "metadata": {
        "id": "ac543289-2f40-4cf4-9f87-3c43c9b66bb7"
      },
      "source": [
        "## Discussion\n",
        "\n",
        "- **Backpropagation:** In each training iteration, the network computes how far off its prediction is (loss), and the gradients are calculated using backpropagation. These gradients indicate how each weight should change to reduce the loss.\n",
        "\n",
        "- **Representation Learning:** As the network adjusts its weights, it develops internal representations in the hidden layer that help it detect the concept of symmetry even though it was never explicitly told what symmetry is. The hidden layer neurons begin to encode features that are important for the task.\n",
        "\n",
        "- **The Obtained Results:** The results does not match the mentioned paper, since PyTorch use different implementation probably."
      ]
    },
    {
      "cell_type": "code",
      "source": [],
      "metadata": {
        "id": "lMqAQ8FPmecF"
      },
      "id": "lMqAQ8FPmecF",
      "execution_count": null,
      "outputs": []
    }
  ],
  "metadata": {
    "kernelspec": {
      "display_name": "Python 3",
      "language": "python",
      "name": "python3"
    },
    "language_info": {
      "name": "python",
      "version": "3.x"
    },
    "colab": {
      "provenance": []
    }
  },
  "nbformat": 4,
  "nbformat_minor": 5
}